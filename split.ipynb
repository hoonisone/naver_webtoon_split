{
 "cells": [
  {
   "cell_type": "code",
   "execution_count": 3,
   "metadata": {},
   "outputs": [
    {
     "name": "stdout",
     "output_type": "stream",
     "text": [
      "Total episode: 1\n",
      "0 resource\\webtoon\\K학원 생존기\\1화 - 첫 수업 유형\n"
     ]
    }
   ],
   "source": [
    "from cartoon_editor import CartoonImageEditor\n",
    "from pathlib import Path\n",
    "episode_list = list(Path(\"resource/webtoon\").glob(\"*/*\"))\n",
    "print(f\"Total episode: {len(episode_list)}\")\n",
    "\n",
    "editor = CartoonImageEditor(min_cut_size=100)\n",
    "for i, path in enumerate(episode_list):\n",
    "    print(i, path)\n",
    "    editor.restiching_single_episode(path)\n"
   ]
  }
 ],
 "metadata": {
  "kernelspec": {
   "display_name": "Python 3",
   "language": "python",
   "name": "python3"
  },
  "language_info": {
   "codemirror_mode": {
    "name": "ipython",
    "version": 3
   },
   "file_extension": ".py",
   "mimetype": "text/x-python",
   "name": "python",
   "nbconvert_exporter": "python",
   "pygments_lexer": "ipython3",
   "version": "3.10.0"
  }
 },
 "nbformat": 4,
 "nbformat_minor": 2
}
