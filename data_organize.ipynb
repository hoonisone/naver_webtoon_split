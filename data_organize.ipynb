{
 "cells": [
  {
   "cell_type": "code",
   "execution_count": 1,
   "metadata": {},
   "outputs": [],
   "source": [
    "import pandas as pd\n",
    "from pathlib import Path\n",
    "\n",
    "def split_as_title(titles, cut_files):\n",
    "    check_list = [False for i in range(len(cut_files))]\n",
    "    def check(i):\n",
    "        if check_list[i] == True:\n",
    "            return False\n",
    "        else:\n",
    "            check_list[i] = True\n",
    "            return True\n",
    "\n",
    "    organize = {}\n",
    "    for title in titles:\n",
    "        names = [c for i, c in enumerate(cut_files) if (title in str(c)) and check(i)]\n",
    "        organize[title] = names\n",
    "    return organize    \n",
    "\n",
    "\n",
    "def reorganize(cartoon_name, organize, target_dir):\n",
    "    target_dir = Path(target_dir)\n",
    "    for order, cut_list in organize.items():\n",
    "        for cut in cut_list:\n",
    "            (target_dir/cartoon_name/order).mkdir(parents=True, exist_ok=True)\n",
    "            cut.rename(target_dir/cartoon_name/order/cut.name)"
   ]
  },
  {
   "cell_type": "code",
   "execution_count": 2,
   "metadata": {},
   "outputs": [],
   "source": [
    "csv_dir = Path(\"resource/csv\")\n",
    "oritin_dir = Path(\"resource/webtoon_data\")\n",
    "result_dir = Path(\"resource/organized_webtoon\")\n",
    "\n",
    "for csv_path in csv_dir.glob(\"*\"):\n",
    "    titles = pd.read_csv(csv_path)[\"title\"]\n",
    "    \n",
    "    cartoon_name = Path(csv_path).stem\n",
    "    dir_path = Path(oritin_dir)/cartoon_name\n",
    "    cut_files = list(dir_path.glob(f\"*\"))\n",
    "    \n",
    "    organize = split_as_title(titles, cut_files)\n",
    "    reorganize(cartoon_name, organize, result_dir)"
   ]
  },
  {
   "cell_type": "code",
   "execution_count": null,
   "metadata": {},
   "outputs": [],
   "source": []
  }
 ],
 "metadata": {
  "kernelspec": {
   "display_name": "base",
   "language": "python",
   "name": "python3"
  },
  "language_info": {
   "codemirror_mode": {
    "name": "ipython",
    "version": 3
   },
   "file_extension": ".py",
   "mimetype": "text/x-python",
   "name": "python",
   "nbconvert_exporter": "python",
   "pygments_lexer": "ipython3",
   "version": "3.10.0"
  }
 },
 "nbformat": 4,
 "nbformat_minor": 2
}
